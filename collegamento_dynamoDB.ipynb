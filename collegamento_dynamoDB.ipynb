{
 "cells": [
  {
   "cell_type": "code",
   "execution_count": 1,
   "metadata": {},
   "outputs": [],
   "source": [
    "import boto3"
   ]
  },
  {
   "cell_type": "code",
   "execution_count": 4,
   "metadata": {},
   "outputs": [],
   "source": [
    "from fastapi import FastAPI, HTTPException\n",
    "from pydantic import BaseModel\n",
    "from typing import List\n",
    "from botocore.exceptions import ClientError"
   ]
  },
  {
   "cell_type": "code",
   "execution_count": 2,
   "metadata": {},
   "outputs": [],
   "source": [
    "dynamodb = boto3.resource('dynamodb', region_name='eu-west-1')"
   ]
  },
  {
   "cell_type": "code",
   "execution_count": 3,
   "metadata": {},
   "outputs": [],
   "source": [
    "table = dynamodb.Table('MCDE2023-d-products')"
   ]
  },
  {
   "cell_type": "code",
   "execution_count": 6,
   "metadata": {},
   "outputs": [],
   "source": [
    "response = table.put_item(\n",
    "   Item={\n",
    "        'ID': '123',\n",
    "        'name': 'John Doe',\n",
    "        'age': 30\n",
    "    }\n",
    ")"
   ]
  },
  {
   "cell_type": "code",
   "execution_count": null,
   "metadata": {},
   "outputs": [],
   "source": [
    "@app.post(\"/products\", response_model=Product)\n",
    "def add_product(product: Product):\n",
    "    try:\n",
    "        # Create a unique product ID\n",
    "        product_id = str(len(products) + 1)\n",
    "        # Add product to DynamoDB\n",
    "        response = table.put_item(\n",
    "            Item={\n",
    "                'id': product_id,\n",
    "                'name': product.name,\n",
    "                'price': product.price,\n",
    "                'description': product.description\n",
    "            }\n",
    "        )\n",
    "        return product\n",
    "    except ClientError as e:\n",
    "        raise HTTPException(status_code=400, detail=str(e))"
   ]
  }
 ],
 "metadata": {
  "kernelspec": {
   "display_name": "Python 3",
   "language": "python",
   "name": "python3"
  },
  "language_info": {
   "codemirror_mode": {
    "name": "ipython",
    "version": 3
   },
   "file_extension": ".py",
   "mimetype": "text/x-python",
   "name": "python",
   "nbconvert_exporter": "python",
   "pygments_lexer": "ipython3",
   "version": "3.11.9"
  }
 },
 "nbformat": 4,
 "nbformat_minor": 2
}
