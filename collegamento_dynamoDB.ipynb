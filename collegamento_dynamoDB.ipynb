{
 "cells": [
  {
   "cell_type": "code",
   "execution_count": 2,
   "metadata": {},
   "outputs": [],
   "source": [
    "import boto3"
   ]
  },
  {
   "cell_type": "code",
   "execution_count": 3,
   "metadata": {},
   "outputs": [],
   "source": [
    "from fastapi import FastAPI, Request"
   ]
  },
  {
   "cell_type": "code",
   "execution_count": 4,
   "metadata": {},
   "outputs": [],
   "source": [
    "from fastapi import FastAPI, HTTPException\n",
    "from pydantic import BaseModel\n",
    "from typing import List\n",
    "from botocore.exceptions import ClientError"
   ]
  },
  {
   "cell_type": "code",
   "execution_count": 5,
   "metadata": {},
   "outputs": [],
   "source": [
    "dynamodb = boto3.resource('dynamodb', region_name='eu-west-1')"
   ]
  },
  {
   "cell_type": "code",
   "execution_count": 6,
   "metadata": {},
   "outputs": [],
   "source": [
    "table = dynamodb.Table('MCDE2023-d-products')"
   ]
  },
  {
   "cell_type": "markdown",
   "metadata": {},
   "source": [
    "## PUT"
   ]
  },
  {
   "cell_type": "code",
   "execution_count": 15,
   "metadata": {},
   "outputs": [
    {
     "data": {
      "text/plain": [
       "{'ResponseMetadata': {'RequestId': 'CLNSLS06GDRF1H61I0459QST33VV4KQNSO5AEMVJF66Q9ASUAAJG',\n",
       "  'HTTPStatusCode': 200,\n",
       "  'HTTPHeaders': {'server': 'Server',\n",
       "   'date': 'Wed, 19 Jun 2024 07:00:32 GMT',\n",
       "   'content-type': 'application/x-amz-json-1.0',\n",
       "   'content-length': '2',\n",
       "   'connection': 'keep-alive',\n",
       "   'x-amzn-requestid': 'CLNSLS06GDRF1H61I0459QST33VV4KQNSO5AEMVJF66Q9ASUAAJG',\n",
       "   'x-amz-crc32': '2745614147'},\n",
       "  'RetryAttempts': 0}}"
      ]
     },
     "execution_count": 15,
     "metadata": {},
     "output_type": "execute_result"
    }
   ],
   "source": [
    "\n",
    "response = table.put_item(\n",
    "   Item={\n",
    "        'ID': '123',\n",
    "        'name': 'John Doe',\n",
    "        'age': 31\n",
    "    }\n",
    ")\n",
    "response"
   ]
  },
  {
   "cell_type": "markdown",
   "metadata": {},
   "source": [
    "## GET"
   ]
  },
  {
   "cell_type": "code",
   "execution_count": 11,
   "metadata": {},
   "outputs": [
    {
     "data": {
      "text/plain": [
       "{'updated_at': None,\n",
       " 'category_id': '7e96755c-88a3-4f3d-9f59-4d3ab3b277ee',\n",
       " 'created_at': '2024-06-18T10:15:58.593132',\n",
       " 'brand_id': '1c1a8ef9-7dab-4397-b73a-5f9a4143c135',\n",
       " 'price': Decimal('19.99'),\n",
       " 'description': 'This is a high-quality, comfortable T-Shirt',\n",
       " 'ID': 'a0d25efd-d33f-4c35-8be7-9d60c3550c43',\n",
       " 'name': 'Amazing T-Shirt',\n",
       " 'weight': Decimal('0.25')}"
      ]
     },
     "execution_count": 11,
     "metadata": {},
     "output_type": "execute_result"
    }
   ],
   "source": [
    "response = table.get_item(Key={'ID':'a0d25efd-d33f-4c35-8be7-9d60c3550c43'})\n",
    "item = response.get('Item')\n",
    "item"
   ]
  },
  {
   "cell_type": "code",
   "execution_count": 12,
   "metadata": {},
   "outputs": [
    {
     "data": {
      "text/plain": [
       "{'Item': {'updated_at': None,\n",
       "  'category_id': '7e96755c-88a3-4f3d-9f59-4d3ab3b277ee',\n",
       "  'created_at': '2024-06-18T10:15:58.593132',\n",
       "  'brand_id': '1c1a8ef9-7dab-4397-b73a-5f9a4143c135',\n",
       "  'price': Decimal('19.99'),\n",
       "  'description': 'This is a high-quality, comfortable T-Shirt',\n",
       "  'ID': 'a0d25efd-d33f-4c35-8be7-9d60c3550c43',\n",
       "  'name': 'Amazing T-Shirt',\n",
       "  'weight': Decimal('0.25')},\n",
       " 'ResponseMetadata': {'RequestId': '2V0RCJO9HTD8G2QFV51F18T9UBVV4KQNSO5AEMVJF66Q9ASUAAJG',\n",
       "  'HTTPStatusCode': 200,\n",
       "  'HTTPHeaders': {'server': 'Server',\n",
       "   'date': 'Wed, 19 Jun 2024 06:25:43 GMT',\n",
       "   'content-type': 'application/x-amz-json-1.0',\n",
       "   'content-length': '391',\n",
       "   'connection': 'keep-alive',\n",
       "   'x-amzn-requestid': '2V0RCJO9HTD8G2QFV51F18T9UBVV4KQNSO5AEMVJF66Q9ASUAAJG',\n",
       "   'x-amz-crc32': '4183250299'},\n",
       "  'RetryAttempts': 0}}"
      ]
     },
     "execution_count": 12,
     "metadata": {},
     "output_type": "execute_result"
    }
   ],
   "source": [
    "response"
   ]
  },
  {
   "cell_type": "code",
   "execution_count": 8,
   "metadata": {},
   "outputs": [
    {
     "data": {
      "text/plain": [
       "{'Item': {'name': 'John Doe'},\n",
       " 'ResponseMetadata': {'RequestId': 'LCFJRKL11E7HJUKQ4EBNLKATFRVV4KQNSO5AEMVJF66Q9ASUAAJG',\n",
       "  'HTTPStatusCode': 200,\n",
       "  'HTTPHeaders': {'server': 'Server',\n",
       "   'date': 'Tue, 18 Jun 2024 15:34:24 GMT',\n",
       "   'content-type': 'application/x-amz-json-1.0',\n",
       "   'content-length': '34',\n",
       "   'connection': 'keep-alive',\n",
       "   'x-amzn-requestid': 'LCFJRKL11E7HJUKQ4EBNLKATFRVV4KQNSO5AEMVJF66Q9ASUAAJG',\n",
       "   'x-amz-crc32': '1037524702'},\n",
       "  'RetryAttempts': 0}}"
      ]
     },
     "execution_count": 8,
     "metadata": {},
     "output_type": "execute_result"
    }
   ],
   "source": [
    "response = table.get_item(Key={'ID':'123'},AttributesToGet=[\n",
    "        'name',\n",
    "    ])\n",
    "response"
   ]
  },
  {
   "cell_type": "code",
   "execution_count": 13,
   "metadata": {},
   "outputs": [
    {
     "name": "stdout",
     "output_type": "stream",
     "text": [
      "{'description': 'This is a high-quality, comfortable T-Shirt', 'name': 'cap', 'price': Decimal('19.99')}\n"
     ]
    }
   ],
   "source": [
    "name = 'cap'\n",
    "response = table.scan(\n",
    "    FilterExpression=boto3.dynamodb.conditions.Attr('name').eq(name)\n",
    ")\n",
    "result = response.get('Items')[0]\n",
    "\n",
    "keys_to_extract = {'name', 'price', 'description'}\n",
    "\n",
    "b = {key: result[key] for key in keys_to_extract if key in result}\n",
    "print(b)\n"
   ]
  },
  {
   "cell_type": "code",
   "execution_count": null,
   "metadata": {},
   "outputs": [],
   "source": [
    "c = {d['ID']: d for d in a}\n",
    "print(c)"
   ]
  },
  {
   "cell_type": "markdown",
   "metadata": {},
   "source": [
    "## UPDATE"
   ]
  },
  {
   "cell_type": "code",
   "execution_count": 9,
   "metadata": {},
   "outputs": [],
   "source": [
    "# Update the item in the table\n",
    "response = table.update_item(\n",
    "    Key={\n",
    "        'ID': '123'\n",
    "    },\n",
    "    UpdateExpression=\"set age = :r\",\n",
    "    ExpressionAttributeValues={\n",
    "        ':r': 45\n",
    "    },\n",
    "    ReturnValues=\"UPDATED_NEW\"\n",
    ")"
   ]
  },
  {
   "cell_type": "markdown",
   "metadata": {},
   "source": [
    "## DELETE"
   ]
  },
  {
   "cell_type": "code",
   "execution_count": 9,
   "metadata": {},
   "outputs": [
    {
     "data": {
      "text/plain": [
       "{'ResponseMetadata': {'RequestId': 'MLT0IIQEHVV14OS26PLTRQSDM3VV4KQNSO5AEMVJF66Q9ASUAAJG',\n",
       "  'HTTPStatusCode': 200,\n",
       "  'HTTPHeaders': {'server': 'Server',\n",
       "   'date': 'Wed, 19 Jun 2024 10:18:57 GMT',\n",
       "   'content-type': 'application/x-amz-json-1.0',\n",
       "   'content-length': '2',\n",
       "   'connection': 'keep-alive',\n",
       "   'x-amzn-requestid': 'MLT0IIQEHVV14OS26PLTRQSDM3VV4KQNSO5AEMVJF66Q9ASUAAJG',\n",
       "   'x-amz-crc32': '2745614147'},\n",
       "  'RetryAttempts': 0}}"
      ]
     },
     "execution_count": 9,
     "metadata": {},
     "output_type": "execute_result"
    }
   ],
   "source": [
    "response = table.delete_item(Key={'ID':'123'})\n",
    "response"
   ]
  },
  {
   "cell_type": "code",
   "execution_count": 7,
   "metadata": {},
   "outputs": [
    {
     "name": "stdout",
     "output_type": "stream",
     "text": [
      "[{'updated_at': None, 'category_id': '7e96755c-88a3-4f3d-9f59-4d3ab3b277ee', 'created_at': '2024-06-19T09:19:37.781544', 'brand_id': '1c1a8ef9-7dab-4397-b73a-5f9a4143c135', 'price': Decimal('19.99'), 'description': 'This is a high-quality, comfortable hat', 'ID': 'e2d2d276-420a-4dd6-94c6-c99a31fc0f96', 'name': 'Amazing hat', 'weight': Decimal('0.25')}, {'updated_at': None, 'category_id': '7e96755c-88a3-4f3d-9f59-4d3ab3b277ee', 'created_at': '2024-06-19T09:16:45.748178', 'brand_id': '1c1a8ef9-7dab-4397-b73a-5f9a4143c135', 'price': Decimal('19.99'), 'description': 'This is a high-quality, comfortable hat', 'ID': '5773f1a9-b486-4063-8690-498ec2ba3a57', 'name': 'Hat', 'weight': Decimal('0.25')}, {'updated_at': None, 'category_id': '7e96755c-88a3-4f3d-9f59-4d3ab3b277ee', 'created_at': '2024-06-19T09:25:23.239317', 'brand_id': '1c1a8ef9-7dab-4397-b73a-5f9a4143c135', 'price': Decimal('19.99'), 'description': 'This is a high-quality, comfortable hat', 'ID': 'e814c821-c7e7-46b2-988c-c3ffa0dd51c5', 'name': 'hat', 'weight': Decimal('0.25')}, {'updated_at': None, 'category_id': '7e96755c-88a3-4f3d-9f59-4d3ab3b277ee', 'created_at': '2024-06-18T10:17:56.655962', 'brand_id': '1c1a8ef9-7dab-4397-b73a-5f9a4143c135', 'price': Decimal('19.99'), 'description': 'This is a high-quality, comfortable T-Shirt', 'ID': '45db9385-eb02-4f23-871f-1c58a26a8b11', 'name': 'Amazing T-Shirt', 'weight': Decimal('0.25')}, {'updated_at': None, 'category_id': '7e96755c-88a3-4f3d-9f59-4d3ab3b277ee', 'created_at': '2024-06-18T10:15:58.593132', 'brand_id': '1c1a8ef9-7dab-4397-b73a-5f9a4143c135', 'price': Decimal('19.99'), 'description': 'This is a high-quality, comfortable T-Shirt', 'ID': 'a0d25efd-d33f-4c35-8be7-9d60c3550c43', 'name': 'Amazing T-Shirt', 'weight': Decimal('0.25')}, {'updated_at': None, 'category_id': '7e96755c-88a3-4f3d-9f59-4d3ab3b277ee', 'created_at': '2024-06-19T12:08:17.615897', 'brand_id': '1c1a8ef9-7dab-4397-b73a-5f9a4143c135', 'price': Decimal('19.99'), 'description': 'This is a high-quality, comfortable T-Shirt', 'ID': '6c812cdf-c276-4fbe-9eb1-219fae8b2a8b', 'name': 'cap', 'weight': Decimal('0.25')}, {'ID': '123', 'name': 'John Doe', 'age': Decimal('31')}, {'updated_at': None, 'category_id': '7e96755c-88a3-4f3d-9f59-4d3ab3b277ee', 'created_at': '2024-06-18T10:20:10.785154', 'brand_id': '1c1a8ef9-7dab-4397-b73a-5f9a4143c135', 'price': Decimal('19.99'), 'description': 'This is a high-quality, comfortable T-Shirt', 'ID': '42481083-9810-4d90-8533-cb1307b4282d', 'name': 'Amazing T-Shirt', 'weight': Decimal('0.25')}, {'updated_at': None, 'category_id': '7e96755c-88a3-4f3d-9f59-4d3ab3b277ee', 'created_at': '2024-06-19T09:18:56.806828', 'brand_id': '1c1a8ef9-7dab-4397-b73a-5f9a4143c135', 'price': Decimal('19.99'), 'description': 'This is a high-quality, comfortable T-Shirt', 'ID': '643478f6-a6f9-4e18-8dd2-ceb9aaa3a3e4', 'name': 'Amazing T-Shirt', 'weight': Decimal('0.25')}]\n"
     ]
    }
   ],
   "source": [
    "response = table.scan()\n",
    "item = response.get('Items')\n",
    "print(item)"
   ]
  },
  {
   "cell_type": "code",
   "execution_count": 8,
   "metadata": {},
   "outputs": [
    {
     "data": {
      "text/plain": [
       "{'Items': [{'updated_at': None,\n",
       "   'category_id': '7e96755c-88a3-4f3d-9f59-4d3ab3b277ee',\n",
       "   'created_at': '2024-06-19T09:19:37.781544',\n",
       "   'brand_id': '1c1a8ef9-7dab-4397-b73a-5f9a4143c135',\n",
       "   'price': Decimal('19.99'),\n",
       "   'description': 'This is a high-quality, comfortable hat',\n",
       "   'ID': 'e2d2d276-420a-4dd6-94c6-c99a31fc0f96',\n",
       "   'name': 'Amazing hat',\n",
       "   'weight': Decimal('0.25')},\n",
       "  {'updated_at': None,\n",
       "   'category_id': '7e96755c-88a3-4f3d-9f59-4d3ab3b277ee',\n",
       "   'created_at': '2024-06-19T09:16:45.748178',\n",
       "   'brand_id': '1c1a8ef9-7dab-4397-b73a-5f9a4143c135',\n",
       "   'price': Decimal('19.99'),\n",
       "   'description': 'This is a high-quality, comfortable hat',\n",
       "   'ID': '5773f1a9-b486-4063-8690-498ec2ba3a57',\n",
       "   'name': 'Hat',\n",
       "   'weight': Decimal('0.25')},\n",
       "  {'updated_at': None,\n",
       "   'category_id': '7e96755c-88a3-4f3d-9f59-4d3ab3b277ee',\n",
       "   'created_at': '2024-06-19T09:25:23.239317',\n",
       "   'brand_id': '1c1a8ef9-7dab-4397-b73a-5f9a4143c135',\n",
       "   'price': Decimal('19.99'),\n",
       "   'description': 'This is a high-quality, comfortable hat',\n",
       "   'ID': 'e814c821-c7e7-46b2-988c-c3ffa0dd51c5',\n",
       "   'name': 'hat',\n",
       "   'weight': Decimal('0.25')},\n",
       "  {'updated_at': None,\n",
       "   'category_id': '7e96755c-88a3-4f3d-9f59-4d3ab3b277ee',\n",
       "   'created_at': '2024-06-18T10:17:56.655962',\n",
       "   'brand_id': '1c1a8ef9-7dab-4397-b73a-5f9a4143c135',\n",
       "   'price': Decimal('19.99'),\n",
       "   'description': 'This is a high-quality, comfortable T-Shirt',\n",
       "   'ID': '45db9385-eb02-4f23-871f-1c58a26a8b11',\n",
       "   'name': 'Amazing T-Shirt',\n",
       "   'weight': Decimal('0.25')},\n",
       "  {'updated_at': None,\n",
       "   'category_id': '7e96755c-88a3-4f3d-9f59-4d3ab3b277ee',\n",
       "   'created_at': '2024-06-18T10:15:58.593132',\n",
       "   'brand_id': '1c1a8ef9-7dab-4397-b73a-5f9a4143c135',\n",
       "   'price': Decimal('19.99'),\n",
       "   'description': 'This is a high-quality, comfortable T-Shirt',\n",
       "   'ID': 'a0d25efd-d33f-4c35-8be7-9d60c3550c43',\n",
       "   'name': 'Amazing T-Shirt',\n",
       "   'weight': Decimal('0.25')},\n",
       "  {'updated_at': None,\n",
       "   'category_id': '7e96755c-88a3-4f3d-9f59-4d3ab3b277ee',\n",
       "   'created_at': '2024-06-19T12:08:17.615897',\n",
       "   'brand_id': '1c1a8ef9-7dab-4397-b73a-5f9a4143c135',\n",
       "   'price': Decimal('19.99'),\n",
       "   'description': 'This is a high-quality, comfortable T-Shirt',\n",
       "   'ID': '6c812cdf-c276-4fbe-9eb1-219fae8b2a8b',\n",
       "   'name': 'cap',\n",
       "   'weight': Decimal('0.25')},\n",
       "  {'ID': '123', 'name': 'John Doe', 'age': Decimal('31')},\n",
       "  {'updated_at': None,\n",
       "   'category_id': '7e96755c-88a3-4f3d-9f59-4d3ab3b277ee',\n",
       "   'created_at': '2024-06-18T10:20:10.785154',\n",
       "   'brand_id': '1c1a8ef9-7dab-4397-b73a-5f9a4143c135',\n",
       "   'price': Decimal('19.99'),\n",
       "   'description': 'This is a high-quality, comfortable T-Shirt',\n",
       "   'ID': '42481083-9810-4d90-8533-cb1307b4282d',\n",
       "   'name': 'Amazing T-Shirt',\n",
       "   'weight': Decimal('0.25')},\n",
       "  {'updated_at': None,\n",
       "   'category_id': '7e96755c-88a3-4f3d-9f59-4d3ab3b277ee',\n",
       "   'created_at': '2024-06-19T09:18:56.806828',\n",
       "   'brand_id': '1c1a8ef9-7dab-4397-b73a-5f9a4143c135',\n",
       "   'price': Decimal('19.99'),\n",
       "   'description': 'This is a high-quality, comfortable T-Shirt',\n",
       "   'ID': '643478f6-a6f9-4e18-8dd2-ceb9aaa3a3e4',\n",
       "   'name': 'Amazing T-Shirt',\n",
       "   'weight': Decimal('0.25')}],\n",
       " 'Count': 9,\n",
       " 'ScannedCount': 9,\n",
       " 'ResponseMetadata': {'RequestId': 'SO5JJ4GT355PPCC7EJDREA9VVRVV4KQNSO5AEMVJF66Q9ASUAAJG',\n",
       "  'HTTPStatusCode': 200,\n",
       "  'HTTPHeaders': {'server': 'Server',\n",
       "   'date': 'Wed, 19 Jun 2024 10:17:41 GMT',\n",
       "   'content-type': 'application/x-amz-json-1.0',\n",
       "   'content-length': '3110',\n",
       "   'connection': 'keep-alive',\n",
       "   'x-amzn-requestid': 'SO5JJ4GT355PPCC7EJDREA9VVRVV4KQNSO5AEMVJF66Q9ASUAAJG',\n",
       "   'x-amz-crc32': '934182665'},\n",
       "  'RetryAttempts': 0}}"
      ]
     },
     "execution_count": 8,
     "metadata": {},
     "output_type": "execute_result"
    }
   ],
   "source": [
    "response"
   ]
  }
 ],
 "metadata": {
  "kernelspec": {
   "display_name": "Python 3",
   "language": "python",
   "name": "python3"
  },
  "language_info": {
   "codemirror_mode": {
    "name": "ipython",
    "version": 3
   },
   "file_extension": ".py",
   "mimetype": "text/x-python",
   "name": "python",
   "nbconvert_exporter": "python",
   "pygments_lexer": "ipython3",
   "version": "3.11.9"
  }
 },
 "nbformat": 4,
 "nbformat_minor": 2
}
