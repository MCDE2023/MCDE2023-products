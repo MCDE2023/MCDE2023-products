{
 "cells": [
  {
   "cell_type": "code",
   "execution_count": 1,
   "metadata": {},
   "outputs": [],
   "source": [
    "import boto3"
   ]
  },
  {
   "cell_type": "code",
   "execution_count": 2,
   "metadata": {},
   "outputs": [],
   "source": [
    "from fastapi import FastAPI, Request"
   ]
  },
  {
   "cell_type": "code",
   "execution_count": 3,
   "metadata": {},
   "outputs": [],
   "source": [
    "from fastapi import FastAPI, HTTPException\n",
    "from pydantic import BaseModel\n",
    "from typing import List\n",
    "from botocore.exceptions import ClientError"
   ]
  },
  {
   "cell_type": "code",
   "execution_count": 4,
   "metadata": {},
   "outputs": [],
   "source": [
    "dynamodb = boto3.resource('dynamodb', region_name='eu-west-1')"
   ]
  },
  {
   "cell_type": "code",
   "execution_count": 5,
   "metadata": {},
   "outputs": [],
   "source": [
    "table = dynamodb.Table('MCDE2023-d-products')"
   ]
  },
  {
   "cell_type": "markdown",
   "metadata": {},
   "source": [
    "## PUT"
   ]
  },
  {
   "cell_type": "code",
   "execution_count": 6,
   "metadata": {},
   "outputs": [
    {
     "data": {
      "text/plain": [
       "{'ResponseMetadata': {'RequestId': '71RGKPFN4CE9GOEADVMK42L01RVV4KQNSO5AEMVJF66Q9ASUAAJG',\n",
       "  'HTTPStatusCode': 200,\n",
       "  'HTTPHeaders': {'server': 'Server',\n",
       "   'date': 'Tue, 18 Jun 2024 11:21:43 GMT',\n",
       "   'content-type': 'application/x-amz-json-1.0',\n",
       "   'content-length': '2',\n",
       "   'connection': 'keep-alive',\n",
       "   'x-amzn-requestid': '71RGKPFN4CE9GOEADVMK42L01RVV4KQNSO5AEMVJF66Q9ASUAAJG',\n",
       "   'x-amz-crc32': '2745614147'},\n",
       "  'RetryAttempts': 0}}"
      ]
     },
     "execution_count": 6,
     "metadata": {},
     "output_type": "execute_result"
    }
   ],
   "source": [
    "\n",
    "response = table.put_item(\n",
    "   Item={\n",
    "        'ID': '123',\n",
    "        'name': 'John Doe',\n",
    "        'age': 31\n",
    "    }\n",
    ")\n",
    "response"
   ]
  },
  {
   "cell_type": "markdown",
   "metadata": {},
   "source": [
    "## GET"
   ]
  },
  {
   "cell_type": "code",
   "execution_count": 7,
   "metadata": {},
   "outputs": [
    {
     "data": {
      "text/plain": [
       "{'Item': {'ID': '123', 'name': 'John Doe', 'age': Decimal('31')},\n",
       " 'ResponseMetadata': {'RequestId': 'TOHRAH904FTJJPH6R4G3DTRIAVVV4KQNSO5AEMVJF66Q9ASUAAJG',\n",
       "  'HTTPStatusCode': 200,\n",
       "  'HTTPHeaders': {'server': 'Server',\n",
       "   'date': 'Tue, 18 Jun 2024 11:21:43 GMT',\n",
       "   'content-type': 'application/x-amz-json-1.0',\n",
       "   'content-length': '68',\n",
       "   'connection': 'keep-alive',\n",
       "   'x-amzn-requestid': 'TOHRAH904FTJJPH6R4G3DTRIAVVV4KQNSO5AEMVJF66Q9ASUAAJG',\n",
       "   'x-amz-crc32': '530002181'},\n",
       "  'RetryAttempts': 0}}"
      ]
     },
     "execution_count": 7,
     "metadata": {},
     "output_type": "execute_result"
    }
   ],
   "source": [
    "response = table.get_item(Key={'ID':'123'})\n",
    "response"
   ]
  },
  {
   "cell_type": "code",
   "execution_count": 8,
   "metadata": {},
   "outputs": [
    {
     "data": {
      "text/plain": [
       "{'Item': {'name': 'John Doe'},\n",
       " 'ResponseMetadata': {'RequestId': 'DP5GUTJT20U7QRH9L20N8IMBTVVV4KQNSO5AEMVJF66Q9ASUAAJG',\n",
       "  'HTTPStatusCode': 200,\n",
       "  'HTTPHeaders': {'server': 'Server',\n",
       "   'date': 'Tue, 18 Jun 2024 11:21:43 GMT',\n",
       "   'content-type': 'application/x-amz-json-1.0',\n",
       "   'content-length': '34',\n",
       "   'connection': 'keep-alive',\n",
       "   'x-amzn-requestid': 'DP5GUTJT20U7QRH9L20N8IMBTVVV4KQNSO5AEMVJF66Q9ASUAAJG',\n",
       "   'x-amz-crc32': '1037524702'},\n",
       "  'RetryAttempts': 0}}"
      ]
     },
     "execution_count": 8,
     "metadata": {},
     "output_type": "execute_result"
    }
   ],
   "source": [
    "response = table.get_item(Key={'ID':'123'},AttributesToGet=[\n",
    "        'name',\n",
    "    ])\n",
    "response"
   ]
  },
  {
   "cell_type": "markdown",
   "metadata": {},
   "source": [
    "## UPDATE"
   ]
  },
  {
   "cell_type": "code",
   "execution_count": 9,
   "metadata": {},
   "outputs": [],
   "source": [
    "# Update the item in the table\n",
    "response = table.update_item(\n",
    "    Key={\n",
    "        'ID': '123'\n",
    "    },\n",
    "    UpdateExpression=\"set age = :r\",\n",
    "    ExpressionAttributeValues={\n",
    "        ':r': 45\n",
    "    },\n",
    "    ReturnValues=\"UPDATED_NEW\"\n",
    ")"
   ]
  },
  {
   "cell_type": "markdown",
   "metadata": {},
   "source": [
    "## DELETE"
   ]
  },
  {
   "cell_type": "code",
   "execution_count": 10,
   "metadata": {},
   "outputs": [
    {
     "data": {
      "text/plain": [
       "{'ResponseMetadata': {'RequestId': 'C8QVTIEKCNLP3UVA7DH0O7O9HBVV4KQNSO5AEMVJF66Q9ASUAAJG',\n",
       "  'HTTPStatusCode': 200,\n",
       "  'HTTPHeaders': {'server': 'Server',\n",
       "   'date': 'Tue, 18 Jun 2024 11:21:43 GMT',\n",
       "   'content-type': 'application/x-amz-json-1.0',\n",
       "   'content-length': '2',\n",
       "   'connection': 'keep-alive',\n",
       "   'x-amzn-requestid': 'C8QVTIEKCNLP3UVA7DH0O7O9HBVV4KQNSO5AEMVJF66Q9ASUAAJG',\n",
       "   'x-amz-crc32': '2745614147'},\n",
       "  'RetryAttempts': 0}}"
      ]
     },
     "execution_count": 10,
     "metadata": {},
     "output_type": "execute_result"
    }
   ],
   "source": [
    "response = table.delete_item(Key={'ID':'123'})\n",
    "response"
   ]
  },
  {
   "cell_type": "code",
   "execution_count": 11,
   "metadata": {},
   "outputs": [
    {
     "data": {
      "text/plain": [
       "{'Items': [{'updated_at': None,\n",
       "   'category_id': '7e96755c-88a3-4f3d-9f59-4d3ab3b277ee',\n",
       "   'created_at': '2024-06-18T10:17:56.655962',\n",
       "   'brand_id': '1c1a8ef9-7dab-4397-b73a-5f9a4143c135',\n",
       "   'price': Decimal('19.99'),\n",
       "   'description': 'This is a high-quality, comfortable T-Shirt',\n",
       "   'ID': '45db9385-eb02-4f23-871f-1c58a26a8b11',\n",
       "   'name': 'Amazing T-Shirt',\n",
       "   'weight': Decimal('0.25')},\n",
       "  {'updated_at': None,\n",
       "   'category_id': '7e96755c-88a3-4f3d-9f59-4d3ab3b277ee',\n",
       "   'created_at': '2024-06-18T10:15:58.593132',\n",
       "   'brand_id': '1c1a8ef9-7dab-4397-b73a-5f9a4143c135',\n",
       "   'price': Decimal('19.99'),\n",
       "   'description': 'This is a high-quality, comfortable T-Shirt',\n",
       "   'ID': 'a0d25efd-d33f-4c35-8be7-9d60c3550c43',\n",
       "   'name': 'Amazing T-Shirt',\n",
       "   'weight': Decimal('0.25')},\n",
       "  {'updated_at': None,\n",
       "   'category_id': '7e96755c-88a3-4f3d-9f59-4d3ab3b277ee',\n",
       "   'created_at': '2024-06-18T10:20:10.785154',\n",
       "   'brand_id': '1c1a8ef9-7dab-4397-b73a-5f9a4143c135',\n",
       "   'price': Decimal('19.99'),\n",
       "   'description': 'This is a high-quality, comfortable T-Shirt',\n",
       "   'ID': '42481083-9810-4d90-8533-cb1307b4282d',\n",
       "   'name': 'Amazing T-Shirt',\n",
       "   'weight': Decimal('0.25')}],\n",
       " 'Count': 3,\n",
       " 'ScannedCount': 3,\n",
       " 'ResponseMetadata': {'RequestId': 'T5SGUSLJ3PEGACJBATJGIFD8V7VV4KQNSO5AEMVJF66Q9ASUAAJG',\n",
       "  'HTTPStatusCode': 200,\n",
       "  'HTTPHeaders': {'server': 'Server',\n",
       "   'date': 'Tue, 18 Jun 2024 11:21:43 GMT',\n",
       "   'content-type': 'application/x-amz-json-1.0',\n",
       "   'content-length': '1187',\n",
       "   'connection': 'keep-alive',\n",
       "   'x-amzn-requestid': 'T5SGUSLJ3PEGACJBATJGIFD8V7VV4KQNSO5AEMVJF66Q9ASUAAJG',\n",
       "   'x-amz-crc32': '245223176'},\n",
       "  'RetryAttempts': 0}}"
      ]
     },
     "execution_count": 11,
     "metadata": {},
     "output_type": "execute_result"
    }
   ],
   "source": [
    "response = table.scan()\n",
    "response"
   ]
  }
 ],
 "metadata": {
  "kernelspec": {
   "display_name": "Python 3",
   "language": "python",
   "name": "python3"
  },
  "language_info": {
   "codemirror_mode": {
    "name": "ipython",
    "version": 3
   },
   "file_extension": ".py",
   "mimetype": "text/x-python",
   "name": "python",
   "nbconvert_exporter": "python",
   "pygments_lexer": "ipython3",
   "version": "3.11.9"
  }
 },
 "nbformat": 4,
 "nbformat_minor": 2
}
